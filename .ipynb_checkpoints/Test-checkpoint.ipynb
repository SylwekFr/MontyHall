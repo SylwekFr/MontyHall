{
 "cells": [
  {
   "cell_type": "markdown",
   "metadata": {},
   "source": [
    "# Test on Jupyter Notebook with monty hall problem"
   ]
  },
  {
   "cell_type": "markdown",
   "metadata": {},
   "source": [
    "Import of the needed library"
   ]
  },
  {
   "cell_type": "code",
   "execution_count": 4,
   "metadata": {},
   "outputs": [],
   "source": [
    "%matplotlib inline\n",
    "from random import randint, seed\n",
    "from enum import Enum\n",
    "import matplotlib.pyplot as plt"
   ]
  },
  {
   "cell_type": "markdown",
   "metadata": {},
   "source": [
    "creation of the class for the choice"
   ]
  },
  {
   "cell_type": "code",
   "execution_count": 6,
   "metadata": {},
   "outputs": [],
   "source": [
    "class Strategy(Enum):\n",
    "    CHANGE = 1\n",
    "    KEEP = 2"
   ]
  },
  {
   "cell_type": "markdown",
   "metadata": {},
   "source": [
    "definition of the simulation of the game "
   ]
  },
  {
   "cell_type": "code",
   "execution_count": 13,
   "metadata": {},
   "outputs": [],
   "source": [
    "seed()\n",
    "def playGame(strategy):\n",
    "    gates=[0,1,2]\n",
    "    goodGate=randint(0,2)\n",
    "    firstChoice=randint(0,2)\n",
    "    gates.remove(firstChoice)\n",
    "    if firstChoice == goodGate:\n",
    "        gates.remove(gates[randint(0,1)])\n",
    "    else:\n",
    "        gates=[goodGate]\n",
    "    secondChoice = 0\n",
    "    if strategy == Strategy.CHANGE:\n",
    "        secondChoice=gates[0]\n",
    "    elif strategy == Strategy.KEEP:\n",
    "        secondChoice=firstChoice\n",
    "    else:\n",
    "        raise ValueError(\"non reconize strategy\")\n",
    "    return secondChoice==goodGate"
   ]
  },
  {
   "cell_type": "markdown",
   "metadata": {},
   "source": [
    "Simulation of several play"
   ]
  },
  {
   "cell_type": "code",
   "execution_count": 14,
   "metadata": {},
   "outputs": [],
   "source": [
    "def play(strategy, turn):\n",
    "    return [1 if playGame(strategy) else 0 for i in range(turn)]"
   ]
  },
  {
   "cell_type": "markdown",
   "metadata": {},
   "source": [
    "Run the simulation and visualize result"
   ]
  },
  {
   "cell_type": "code",
   "execution_count": 39,
   "metadata": {},
   "outputs": [
    {
     "name": "stdout",
     "output_type": "stream",
     "text": [
      "with change strategy, win : 67124 on 100000\n",
      "with keep strategy, win : 33181 on 100000\n"
     ]
    },
    {
     "data": {
      "image/png": "[encoded data removed]",
      "text/plain": [
       "<Figure size 432x288 with 1 Axes>"
      ]
     },
     "metadata": {
      "needs_background": "light"
     },
     "output_type": "display_data"
    }
   ],
   "source": [
    "turn=100000\n",
    "winWithChange=sum(play(Strategy.CHANGE, turn))\n",
    "winWithKeep=sum(play(Strategy.KEEP, turn))\n",
    "print(\"with change strategy, win : {} on {}\".format(winWithChange,turn))\n",
    "print(\"with keep strategy, win : {} on {}\".format(winWithKeep,turn))\n",
    "plot = plt.bar([1,2],[winWithChange, \n",
    "               winWithKeep], \n",
    "        tick_label=[\"Change\",\"Keep\"])"
   ]
  }
 ],
 "metadata": {
  "kernelspec": {
   "display_name": "Python 3",
   "language": "python",
   "name": "python3"
  },
  "language_info": {
   "codemirror_mode": {
    "name": "ipython",
    "version": 3
   },
   "file_extension": ".py",
   "mimetype": "text/x-python",
   "name": "python",
   "nbconvert_exporter": "python",
   "pygments_lexer": "ipython3",
   "version": "3.7.4"
  }
 },
 "nbformat": 4,
 "nbformat_minor": 2
}
