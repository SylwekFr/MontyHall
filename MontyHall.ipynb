{
 "cells": [
  {
   "cell_type": "markdown",
   "metadata": {},
   "source": [
    "# Monty hall problem explained on Jupyter Notebook"
   ]
  },
  {
   "cell_type": "markdown",
   "metadata": {},
   "source": [
    "## Introduction :   \n",
    "The monty hall problem is kind of famous, it could be vue such as a game on a TV show.  \n",
    "The candidate of this TV show would come an find in front of him 3 gates, there is a gain only behind one gate, behind the others their is whatever you want to imagine for the show but no gain.  \n",
    "At the first turn the candidate have to chose a gate (of course the one he thinks to be the treasure one).  \n",
    "Then the presentator open one of the gate behind which there is no gain (so stay one with the gain and one without).  \n",
    "For the second turn the candidate can chose to change his choice or not.  \n",
    "In this simulation we will be what is the best strategy to chose."
   ]
  },
  {
   "cell_type": "markdown",
   "metadata": {},
   "source": [
    "## Simulation with \"basic\" python library"
   ]
  },
  {
   "cell_type": "markdown",
   "metadata": {},
   "source": [
    "Import of the needed libraries :"
   ]
  },
  {
   "cell_type": "code",
   "execution_count": 1,
   "metadata": {},
   "outputs": [],
   "source": [
    "%matplotlib inline\n",
    "from random import randint, seed\n",
    "from enum import Enum\n",
    "import matplotlib.pyplot as plt"
   ]
  },
  {
   "cell_type": "markdown",
   "metadata": {},
   "source": [
    "creation of an enum class for the candidate strategy :"
   ]
  },
  {
   "cell_type": "code",
   "execution_count": 2,
   "metadata": {},
   "outputs": [],
   "source": [
    "class Strategy(Enum):\n",
    "    CHANGE = 1\n",
    "    KEEP = 2"
   ]
  },
  {
   "cell_type": "markdown",
   "metadata": {},
   "source": [
    "function which define the game:"
   ]
  },
  {
   "cell_type": "code",
   "execution_count": 3,
   "metadata": {},
   "outputs": [],
   "source": [
    "seed()\n",
    "def playGame(strategy):\n",
    "    gates=[0,1,2]\n",
    "    goodGate=randint(0,2)\n",
    "    firstChoice=randint(0,2)\n",
    "    gates.remove(firstChoice)\n",
    "    if firstChoice == goodGate:\n",
    "        gates.remove(gates[randint(0,1)])\n",
    "    else:\n",
    "        gates=[goodGate]\n",
    "    secondChoice = 0\n",
    "    if strategy == Strategy.CHANGE:\n",
    "        secondChoice=gates[0]\n",
    "    elif strategy == Strategy.KEEP:\n",
    "        secondChoice=firstChoice\n",
    "    else:\n",
    "        raise ValueError(\"non reconize strategy\")\n",
    "    return secondChoice==goodGate"
   ]
  },
  {
   "cell_type": "markdown",
   "metadata": {},
   "source": [
    "function to lauch several play (for statistic purpose we need several play)"
   ]
  },
  {
   "cell_type": "code",
   "execution_count": 4,
   "metadata": {},
   "outputs": [],
   "source": [
    "def play(strategy, turn):\n",
    "    return [1 if playGame(strategy) else 0 for i in range(turn)]"
   ]
  },
  {
   "cell_type": "markdown",
   "metadata": {},
   "source": [
    "Run the simulation and visualize result on histogram (don't hesitate to change the turn number as you wish)"
   ]
  },
  {
   "cell_type": "code",
   "execution_count": 5,
   "metadata": {},
   "outputs": [
    {
     "name": "stdout",
     "output_type": "stream",
     "text": [
      "with change strategy, win : 642 on 1000\n",
      "with keep strategy, win : 331 on 1000\n"
     ]
    },
    {
     "data": {
      "image/png": "[encoded data removed]",
      "text/plain": [
       "<Figure size 432x288 with 1 Axes>"
      ]
     },
     "metadata": {
      "needs_background": "light"
     },
     "output_type": "display_data"
    }
   ],
   "source": [
    "turn=1000\n",
    "winWithChange=sum(play(Strategy.CHANGE, turn))\n",
    "winWithKeep=sum(play(Strategy.KEEP, turn))\n",
    "print(\"with change strategy, win : {} on {}\".format(winWithChange,turn))\n",
    "print(\"with keep strategy, win : {} on {}\".format(winWithKeep,turn))\n",
    "plot = plt.bar([1,2],[winWithChange, \n",
    "               winWithKeep], \n",
    "        tick_label=[\"Change\",\"Keep\"])"
   ]
  },
  {
   "cell_type": "markdown",
   "metadata": {},
   "source": [
    "### what do we learn from this simulation and how to interpret it ?\n",
    "More the number of turn is important more we see that changing door at the second turn is a better strategy.  \n",
    "how to explain it ?  \n",
    "We can also see that for the change strategy the value tend to around 66% which can be express as 2/3 and then the keep strategy tend to 33% which can be express 1/3.  \n",
    "But at the second turn there is only 2 door so what for this result ?  \n",
    "At the first turn our candidate as only 1/3 probability to directly chose the good gate, when one gate is open this probability doesn't change however for the other gate the probability become 2/3."
   ]
  },
  {
   "cell_type": "markdown",
   "metadata": {},
   "source": [
    "## Use of Numpy library"
   ]
  },
  {
   "cell_type": "markdown",
   "metadata": {},
   "source": [
    "Same problem with numpy library"
   ]
  },
  {
   "cell_type": "markdown",
   "metadata": {},
   "source": [
    "Importing the libraries "
   ]
  },
  {
   "cell_type": "code",
   "execution_count": 6,
   "metadata": {},
   "outputs": [],
   "source": [
    "import numpy as np\n",
    "%matplotlib inline\n",
    "import matplotlib.pyplot as plt"
   ]
  },
  {
   "cell_type": "markdown",
   "metadata": {},
   "source": [
    "Simulating the problem :"
   ]
  },
  {
   "cell_type": "code",
   "execution_count": 7,
   "metadata": {},
   "outputs": [],
   "source": [
    "turn = 1000\n",
    "goodGate = np.random.randint(0,3, size=(turn)) # 3 for numpy and not 2 \n",
    "firstChoice = np.random.randint(0,3, size=(turn))\n",
    "winWithChange = (goodGate!=firstChoice).astype(int)\n",
    "winWithKeep = (goodGate==firstChoice).astype(int)\n"
   ]
  },
  {
   "cell_type": "markdown",
   "metadata": {},
   "source": [
    "visualize the result on an histogram :"
   ]
  },
  {
   "cell_type": "code",
   "execution_count": 8,
   "metadata": {},
   "outputs": [
    {
     "data": {
      "image/png": "[encoded data removed]",
      "text/plain": [
       "<Figure size 432x288 with 1 Axes>"
      ]
     },
     "metadata": {
      "needs_background": "light"
     },
     "output_type": "display_data"
    }
   ],
   "source": [
    "plot = plt.bar([1,2],[winWithChange.sum(), winWithKeep.sum()],tick_label=[\"Change\",\"Keep\"])"
   ]
  }
 ],
 "metadata": {
  "kernelspec": {
   "display_name": "Python 3",
   "language": "python",
   "name": "python3"
  },
  "language_info": {
   "codemirror_mode": {
    "name": "ipython",
    "version": 3
   },
   "file_extension": ".py",
   "mimetype": "text/x-python",
   "name": "python",
   "nbconvert_exporter": "python",
   "pygments_lexer": "ipython3",
   "version": "3.7.4"
  }
 },
 "nbformat": 4,
 "nbformat_minor": 2
}
